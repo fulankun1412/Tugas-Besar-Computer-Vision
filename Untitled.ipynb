{
 "cells": [
  {
   "cell_type": "code",
   "execution_count": 1,
   "metadata": {},
   "outputs": [
    {
     "name": "stdout",
     "output_type": "stream",
     "text": [
      "Requirement already satisfied: keras in c:\\users\\afkaa\\appdata\\local\\programs\\python\\python36\\lib\\site-packages (2.2.4)\n",
      "Requirement already satisfied: pyyaml in c:\\users\\afkaa\\appdata\\local\\programs\\python\\python36\\lib\\site-packages (from keras) (5.3)\n",
      "Requirement already satisfied: keras-applications>=1.0.6 in c:\\users\\afkaa\\appdata\\local\\programs\\python\\python36\\lib\\site-packages (from keras) (1.0.8)\n",
      "Requirement already satisfied: keras-preprocessing>=1.0.5 in c:\\users\\afkaa\\appdata\\local\\programs\\python\\python36\\lib\\site-packages (from keras) (1.1.0)\n",
      "Requirement already satisfied: scipy>=0.14 in c:\\users\\afkaa\\appdata\\local\\programs\\python\\python36\\lib\\site-packages (from keras) (1.3.3)\n",
      "Requirement already satisfied: six>=1.9.0 in c:\\users\\afkaa\\appdata\\local\\programs\\python\\python36\\lib\\site-packages (from keras) (1.13.0)\n",
      "Requirement already satisfied: numpy>=1.9.1 in c:\\users\\afkaa\\appdata\\local\\programs\\python\\python36\\lib\\site-packages (from keras) (1.17.4)\n",
      "Requirement already satisfied: h5py in c:\\users\\afkaa\\appdata\\local\\programs\\python\\python36\\lib\\site-packages (from keras) (2.10.0)\n",
      "Note: you may need to restart the kernel to use updated packages.\n"
     ]
    }
   ],
   "source": [
    "pip install keras"
   ]
  },
  {
   "cell_type": "code",
   "execution_count": null,
   "metadata": {},
   "outputs": [],
   "source": []
  }
 ],
 "metadata": {
  "kernelspec": {
   "display_name": "Python 3",
   "language": "python",
   "name": "python3"
  },
  "language_info": {
   "codemirror_mode": {
    "name": "ipython",
    "version": 3
   },
   "file_extension": ".py",
   "mimetype": "text/x-python",
   "name": "python",
   "nbconvert_exporter": "python",
   "pygments_lexer": "ipython3",
   "version": "3.6.5"
  }
 },
 "nbformat": 4,
 "nbformat_minor": 4
}
